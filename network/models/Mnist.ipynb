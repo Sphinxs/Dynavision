{
 "cells": [
  {
   "cell_type": "markdown",
   "metadata": {},
   "source": [
    "### Dependencies"
   ]
  },
  {
   "cell_type": "code",
   "execution_count": null,
   "metadata": {},
   "outputs": [],
   "source": [
    "!pip install --user matplotlib numpy torch torchvision"
   ]
  },
  {
   "cell_type": "markdown",
   "metadata": {
    "colab_type": "text",
    "id": "ms0ubeVyIOMc"
   },
   "source": [
    "### Imports"
   ]
  },
  {
   "cell_type": "code",
   "execution_count": 2,
   "metadata": {
    "colab": {},
    "colab_type": "code",
    "id": "zt4sHRorIROg"
   },
   "outputs": [],
   "source": [
    "# Matplotlib\n",
    "import matplotlib.pyplot as pp\n",
    "\n",
    "# Numpy\n",
    "import numpy\n",
    "\n",
    "# Pytorch\n",
    "import torch\n",
    "\n",
    "# Neural networks\n",
    "from torch import nn\n",
    "\n",
    "# Functional\n",
    "import torch.nn.functional as F\n",
    "\n",
    "# Optimizer\n",
    "from torch import optim\n",
    "\n",
    "# Datasets and transforms\n",
    "from torchvision import datasets, transforms"
   ]
  },
  {
   "cell_type": "markdown",
   "metadata": {
    "colab_type": "text",
    "id": "3ceBi4ZKkC4z"
   },
   "source": [
    "### Cuda"
   ]
  },
  {
   "cell_type": "code",
   "execution_count": 3,
   "metadata": {
    "colab": {},
    "colab_type": "code",
    "id": "j24rz8GBEtxL"
   },
   "outputs": [
    {
     "name": "stdout",
     "output_type": "stream",
     "text": [
      "GeForce MX150\n"
     ]
    }
   ],
   "source": [
    "# Check if cuda is available\n",
    "try:\n",
    "    print(torch.cuda.get_device_name(torch.cuda.current_device()))\n",
    "except:\n",
    "    print('Cpu')"
   ]
  },
  {
   "cell_type": "markdown",
   "metadata": {},
   "source": [
    "### Plot"
   ]
  },
  {
   "cell_type": "code",
   "execution_count": 4,
   "metadata": {},
   "outputs": [],
   "source": [
    "# Plot samples\n",
    "def plot(ax, images, cmap='gray', axis=False):\n",
    "    count = 0\n",
    "    \n",
    "    for row in range(ax.shape[0]):\n",
    "        for col in range(ax.shape[1]):\n",
    "            ax[row, col].imshow(images[count].numpy().squeeze(), cmap=cmap)\n",
    "            \n",
    "            if not axis:\n",
    "                ax[row, col].axis('off')\n",
    "            \n",
    "            count += 1\n",
    "\n",
    "# Plot classify\n",
    "def view_classify(img, ps):\n",
    "    fig, (ax1, ax2) = pp.subplots(ncols=2, figsize=(6, 9))\n",
    "    \n",
    "    ax1.imshow(img.resize_(1, 28, 28).numpy().squeeze(), cmap='gray')\n",
    "\n",
    "    ax1.axis('off')\n",
    "    \n",
    "    ax2.barh(numpy.arange(10), ps.data.numpy().squeeze())\n",
    "\n",
    "    ax2.set_aspect(0.1)\n",
    "\n",
    "    ax2.set_yticks(numpy.arange(10))\n",
    "\n",
    "    ax2.set_yticklabels(numpy.arange(10))\n",
    "                             \n",
    "    ax2.set_title('Class Probability')\n",
    "\n",
    "    ax2.set_xlim(0, 1.1)"
   ]
  },
  {
   "cell_type": "markdown",
   "metadata": {
    "colab_type": "text",
    "id": "UC2jWU6UJSeT"
   },
   "source": [
    "### Preprocessing"
   ]
  },
  {
   "cell_type": "code",
   "execution_count": 5,
   "metadata": {
    "colab": {},
    "colab_type": "code",
    "id": "DcbR7-qYJUJZ"
   },
   "outputs": [],
   "source": [
    "# Convert data to tensor and normalize (center and scale to unit)\n",
    "transform = transforms.Compose([\n",
    "    transforms.ToTensor(),\n",
    "    transforms.Normalize((0.5,), (0.5,))\n",
    "])\n",
    "\n",
    "# Load dataset\n",
    "train = datasets.MNIST(\n",
    "    root='.',\n",
    "    train=True,\n",
    "    download=True,\n",
    "    transform=transform\n",
    ")"
   ]
  },
  {
   "cell_type": "code",
   "execution_count": 6,
   "metadata": {
    "colab": {},
    "colab_type": "code",
    "id": "V6jijBDEtsj5"
   },
   "outputs": [],
   "source": [
    "# Define epochs\n",
    "train = torch.utils.data.DataLoader(train, batch_size=64, shuffle=False)"
   ]
  },
  {
   "cell_type": "code",
   "execution_count": 7,
   "metadata": {
    "colab": {},
    "colab_type": "code",
    "id": "s-HU1il8AY_X"
   },
   "outputs": [],
   "source": [
    "# Get samples\n",
    "dataiter = iter(train)\n",
    "\n",
    "images, labels = dataiter.next()  # One epoch"
   ]
  },
  {
   "cell_type": "code",
   "execution_count": 8,
   "metadata": {},
   "outputs": [
    {
     "data": {
      "image/png": "[encoded data removed]",
      "text/plain": [
       "<Figure size 1080x360 with 6 Axes>"
      ]
     },
     "metadata": {
      "needs_background": "light"
     },
     "output_type": "display_data"
    }
   ],
   "source": [
    "# Plot image\n",
    "%matplotlib inline\n",
    "\n",
    "fig, ax = pp.subplots(nrows=2, ncols=3, figsize=(15, 5))\n",
    "\n",
    "plot(ax, images)"
   ]
  },
  {
   "cell_type": "markdown",
   "metadata": {
    "colab_type": "text",
    "id": "zjBhDooy1zhh"
   },
   "source": [
    "###  Artificial Neural Network"
   ]
  },
  {
   "cell_type": "markdown",
   "metadata": {
    "colab_type": "text",
    "id": "8tnhbtdi-dOb"
   },
   "source": [
    "#### Manual"
   ]
  },
  {
   "cell_type": "code",
   "execution_count": 9,
   "metadata": {
    "colab": {},
    "colab_type": "code",
    "id": "Vi31V-CjxDKh"
   },
   "outputs": [],
   "source": [
    "# Activation functions\n",
    "def sigmoid(tensor):\n",
    "    return 1 / (1 + torch.exp(-tensor))  # Exponential of euler by tensor\n",
    "\n",
    "def softmax(tensor):\n",
    "    return torch.exp(tensor) / torch.sum(torch.exp(tensor), dim=1).view(-1, 1)  # Horizontal sum (dim=0 vertical)\n",
    "\n",
    "# Tensor processing\n",
    "def flatten(tensor):\n",
    "    return tensor.view(tensor.shape[0], -1)  # Specified number of lines and n columns "
   ]
  },
  {
   "cell_type": "code",
   "execution_count": 10,
   "metadata": {
    "colab": {},
    "colab_type": "code",
    "id": "em498bZyxyxA"
   },
   "outputs": [
    {
     "name": "stdout",
     "output_type": "stream",
     "text": [
      "tensor([1.0000, 1.0000, 1.0000, 1.0000, 1.0000, 1.0000, 1.0000, 1.0000, 1.0000,\n",
      "        1.0000, 1.0000, 1.0000, 1.0000, 1.0000, 1.0000, 1.0000, 1.0000, 1.0000,\n",
      "        1.0000, 1.0000, 1.0000, 1.0000, 1.0000, 1.0000, 1.0000, 1.0000, 1.0000,\n",
      "        1.0000, 1.0000, 1.0000, 1.0000, 1.0000, 1.0000, 1.0000, 1.0000, 1.0000,\n",
      "        1.0000, 1.0000, 1.0000, 1.0000, 1.0000, 1.0000, 1.0000, 1.0000, 1.0000,\n",
      "        1.0000, 1.0000, 1.0000, 1.0000, 1.0000, 1.0000, 1.0000, 1.0000, 1.0000,\n",
      "        1.0000, 1.0000, 1.0000, 1.0000, 1.0000, 1.0000, 1.0000, 1.0000, 1.0000,\n",
      "        1.0000])\n"
     ]
    }
   ],
   "source": [
    "# Flatten images\n",
    "inputs = flatten(images)\n",
    "\n",
    "# Weights and bias\n",
    "w1 = torch.randn(784, 256)  # 784 lines and 256 columns (2D)\n",
    "\n",
    "b1 = torch.randn(256)  # 1 Line and 256 columns (1D)\n",
    "\n",
    "w2 = torch.randn(256, 10)  # 256 lines and 10 columns (2D)\n",
    "\n",
    "b2 = torch.randn(10)  # 1 Line and 10 columns (1D)\n",
    "\n",
    "# Hidden layer (linear function)\n",
    "h = sigmoid(torch.mm(inputs, w1) + b1)  # Tensor 64 lines and 256 columns\n",
    "\n",
    "# Output layer (linear function)  # Tensor 64 lines and 10 columns (classes)\n",
    "output = torch.mm(h, w2) + b2\n",
    "\n",
    "# Probability distribution\n",
    "probabilities = softmax(output)  # 64 Lines and 10 columns (classes)\n",
    "\n",
    "print(probabilities.sum(dim=1))"
   ]
  },
  {
   "cell_type": "markdown",
   "metadata": {
    "colab_type": "text",
    "id": "-SHxYtNf5Ixa"
   },
   "source": [
    "#### Pytorch Manual"
   ]
  },
  {
   "cell_type": "code",
   "execution_count": 11,
   "metadata": {
    "colab": {},
    "colab_type": "code",
    "id": "DTDoWxV_2TGp"
   },
   "outputs": [],
   "source": [
    "class Network(nn.Module):\n",
    "    def __init__(self):\n",
    "        super().__init__()\n",
    "        \n",
    "        # Hidden layer\n",
    "        self.hidden = nn.Linear(784, 256)  # 784 Properties and 256 neurons\n",
    "        \n",
    "        # Output layer\n",
    "        self.output = nn.Linear(256, 10)  # 256 Properties and 10 neurons\n",
    "        \n",
    "        # Activation functions\n",
    "        self.sigmoid = nn.Sigmoid()\n",
    "        \n",
    "        self.softmax = nn.Softmax(dim=1)\n",
    "    \n",
    "    def forward(self, tensor):\n",
    "        return self.softmax(  # Probability distribution\n",
    "            self.output(  # Output layer\n",
    "                self.sigmoid(\n",
    "                    self.hidden(tensor)  # Hidden Layer\n",
    "                )\n",
    "            )\n",
    "        )"
   ]
  },
  {
   "cell_type": "code",
   "execution_count": 12,
   "metadata": {
    "colab": {},
    "colab_type": "code",
    "id": "NkKrTcG54ZBs"
   },
   "outputs": [
    {
     "data": {
      "text/plain": [
       "Network(\n",
       "  (hidden): Linear(in_features=784, out_features=256, bias=True)\n",
       "  (output): Linear(in_features=256, out_features=10, bias=True)\n",
       "  (sigmoid): Sigmoid()\n",
       "  (softmax): Softmax()\n",
       ")"
      ]
     },
     "execution_count": 12,
     "metadata": {},
     "output_type": "execute_result"
    }
   ],
   "source": [
    "model = Network()\n",
    "\n",
    "model"
   ]
  },
  {
   "cell_type": "markdown",
   "metadata": {
    "colab_type": "text",
    "id": "toNypeCn5RTg"
   },
   "source": [
    "#### Pytorch Functional Linear (Sigmoid)"
   ]
  },
  {
   "cell_type": "code",
   "execution_count": 13,
   "metadata": {
    "colab": {},
    "colab_type": "code",
    "id": "N10yutLn5Vbp"
   },
   "outputs": [],
   "source": [
    "class Network(nn.Module):\n",
    "    def __init__(self):\n",
    "        super().__init__()\n",
    "        \n",
    "        # Hidden layer\n",
    "        self.hidden = nn.Linear(784, 256)\n",
    "        \n",
    "        # Output layer\n",
    "        self.output = nn.Linear(256, 10)\n",
    "    \n",
    "    def forward(self, tensor):\n",
    "        tensor = F.sigmoid(self.hidden(tensor))\n",
    "        \n",
    "        tensor = F.softmax(self.output(tensor), dim=1)\n",
    "        \n",
    "        return tensor"
   ]
  },
  {
   "cell_type": "code",
   "execution_count": 14,
   "metadata": {
    "colab": {},
    "colab_type": "code",
    "id": "8bAffn777ZpD"
   },
   "outputs": [
    {
     "data": {
      "text/plain": [
       "Network(\n",
       "  (hidden): Linear(in_features=784, out_features=256, bias=True)\n",
       "  (output): Linear(in_features=256, out_features=10, bias=True)\n",
       ")"
      ]
     },
     "execution_count": 14,
     "metadata": {},
     "output_type": "execute_result"
    }
   ],
   "source": [
    "model = Network()\n",
    "\n",
    "model"
   ]
  },
  {
   "cell_type": "markdown",
   "metadata": {
    "colab_type": "text",
    "id": "upWZ8tuA7l6c"
   },
   "source": [
    "#### Pytorch Functional Linear (Relu)"
   ]
  },
  {
   "cell_type": "code",
   "execution_count": 54,
   "metadata": {
    "colab": {},
    "colab_type": "code",
    "id": "ZZA9Axs47tlv"
   },
   "outputs": [],
   "source": [
    "class Network(nn.Module):\n",
    "    def __init__(self):        \n",
    "        super().__init__()\n",
    "        \n",
    "        # Fully connected\n",
    "        \n",
    "        # Input layer\n",
    "        self.fc1 = nn.Linear(784, 128)\n",
    "        \n",
    "        # Hidden layer\n",
    "        self.fc2 = nn.Linear(128, 64)\n",
    "        \n",
    "        # Output layer\n",
    "        self.fc3 = nn.Linear(64, 10)\n",
    "    \n",
    "    def forward(self, tensor):\n",
    "        tensor = self.fc1(tensor)\n",
    "        \n",
    "        tensor = F.relu(tensor)\n",
    "        \n",
    "        tensor = self.fc2(tensor)\n",
    "        \n",
    "        tensor = F.relu(tensor)\n",
    "        \n",
    "        tensor = self.fc3(tensor)\n",
    "        \n",
    "        tensor = F.softmax(tensor, dim=1)\n",
    "        \n",
    "        return tensor             "
   ]
  },
  {
   "cell_type": "code",
   "execution_count": 55,
   "metadata": {
    "colab": {},
    "colab_type": "code",
    "id": "VZ3FGP167u8t"
   },
   "outputs": [
    {
     "data": {
      "text/plain": [
       "Network(\n",
       "  (fc1): Linear(in_features=784, out_features=128, bias=True)\n",
       "  (fc2): Linear(in_features=128, out_features=64, bias=True)\n",
       "  (fc3): Linear(in_features=64, out_features=10, bias=True)\n",
       ")"
      ]
     },
     "execution_count": 55,
     "metadata": {},
     "output_type": "execute_result"
    }
   ],
   "source": [
    "model = Network()\n",
    "\n",
    "model"
   ]
  },
  {
   "cell_type": "code",
   "execution_count": 56,
   "metadata": {
    "colab": {},
    "colab_type": "code",
    "id": "h_jNeXW1-gsm"
   },
   "outputs": [
    {
     "name": "stdout",
     "output_type": "stream",
     "text": [
      "Parameter containing:\n",
      "tensor([-0.0186, -0.0207,  0.0261,  0.0334,  0.0207,  0.0181,  0.0333, -0.0134,\n",
      "         0.0277,  0.0026, -0.0231, -0.0028,  0.0054, -0.0349,  0.0010, -0.0135,\n",
      "        -0.0028, -0.0027, -0.0257, -0.0277,  0.0040,  0.0091, -0.0285, -0.0278,\n",
      "        -0.0168,  0.0262,  0.0123, -0.0268,  0.0228,  0.0158, -0.0284, -0.0319,\n",
      "         0.0043, -0.0008, -0.0329,  0.0324,  0.0331,  0.0354, -0.0034,  0.0040,\n",
      "         0.0044,  0.0289, -0.0274,  0.0157, -0.0002, -0.0238,  0.0306,  0.0155,\n",
      "         0.0250, -0.0202, -0.0261,  0.0026, -0.0259, -0.0199, -0.0321, -0.0117,\n",
      "        -0.0201, -0.0338,  0.0296,  0.0149, -0.0199, -0.0123,  0.0010, -0.0325,\n",
      "         0.0228, -0.0143,  0.0213,  0.0033, -0.0165,  0.0294, -0.0027, -0.0047,\n",
      "         0.0167, -0.0293,  0.0320,  0.0225,  0.0176, -0.0169, -0.0342,  0.0180,\n",
      "        -0.0100, -0.0333,  0.0247,  0.0331, -0.0333,  0.0012, -0.0300,  0.0301,\n",
      "         0.0200,  0.0116, -0.0167, -0.0060,  0.0100,  0.0231,  0.0011,  0.0033,\n",
      "        -0.0198, -0.0241,  0.0247, -0.0221,  0.0231, -0.0340, -0.0066,  0.0269,\n",
      "         0.0054,  0.0024, -0.0072, -0.0325, -0.0218,  0.0158, -0.0122,  0.0336,\n",
      "         0.0024,  0.0258,  0.0131,  0.0085,  0.0337, -0.0135, -0.0233,  0.0116,\n",
      "        -0.0272, -0.0135,  0.0225, -0.0257, -0.0344, -0.0345, -0.0220, -0.0291],\n",
      "       requires_grad=True)\n",
      "Parameter containing:\n",
      "tensor([[-0.0055, -0.0137, -0.0337,  ..., -0.0088,  0.0094,  0.0313],\n",
      "        [-0.0287,  0.0021,  0.0131,  ...,  0.0093, -0.0144,  0.0148],\n",
      "        [ 0.0025, -0.0140, -0.0357,  ..., -0.0227,  0.0152,  0.0340],\n",
      "        ...,\n",
      "        [-0.0025, -0.0205,  0.0250,  ..., -0.0260, -0.0259,  0.0079],\n",
      "        [-0.0241, -0.0342,  0.0208,  ..., -0.0166,  0.0099,  0.0105],\n",
      "        [-0.0299, -0.0030,  0.0014,  ...,  0.0227,  0.0346,  0.0279]],\n",
      "       requires_grad=True)\n"
     ]
    }
   ],
   "source": [
    "# Get bias and weights from tensors\n",
    "print(model.fc1.bias)\n",
    "\n",
    "print(model.fc1.weight)"
   ]
  },
  {
   "cell_type": "code",
   "execution_count": 57,
   "metadata": {
    "colab": {},
    "colab_type": "code",
    "id": "QsD973Op_Lah"
   },
   "outputs": [
    {
     "data": {
      "text/plain": [
       "tensor([[-0.0076,  0.0096,  0.0044,  ..., -0.0100,  0.0021, -0.0168],\n",
       "        [ 0.0056, -0.0019,  0.0174,  ..., -0.0091, -0.0028,  0.0007],\n",
       "        [-0.0078, -0.0103, -0.0099,  ..., -0.0132, -0.0041, -0.0113],\n",
       "        ...,\n",
       "        [ 0.0003, -0.0020,  0.0039,  ..., -0.0084, -0.0096,  0.0037],\n",
       "        [-0.0025,  0.0076,  0.0123,  ...,  0.0102,  0.0049,  0.0002],\n",
       "        [-0.0089, -0.0029, -0.0127,  ..., -0.0158, -0.0237, -0.0023]])"
      ]
     },
     "execution_count": 57,
     "metadata": {},
     "output_type": "execute_result"
    }
   ],
   "source": [
    "# Set bias and weights\n",
    "model.fc1.bias.data.fill_(0)\n",
    "\n",
    "model.fc1.weight.data.fill_(0)\n",
    "\n",
    "# Set weights randomly\n",
    "model.fc1.weight.data.normal_(std=0.01)"
   ]
  },
  {
   "cell_type": "code",
   "execution_count": 58,
   "metadata": {
    "colab": {},
    "colab_type": "code",
    "id": "fe4xnYhDFS4n"
   },
   "outputs": [
    {
     "name": "stdout",
     "output_type": "stream",
     "text": [
      "tensor([[0.0922, 0.1000, 0.0955, 0.1019, 0.1033, 0.1027, 0.1111, 0.1112, 0.0857,\n",
      "         0.0963]], grad_fn=<SoftmaxBackward>)\n"
     ]
    },
    {
     "data": {
      "image/png": "[encoded data removed]",
      "text/plain": [
       "<Figure size 432x648 with 2 Axes>"
      ]
     },
     "metadata": {
      "needs_background": "light"
     },
     "output_type": "display_data"
    }
   ],
   "source": [
    "# Train\n",
    "model.forward(images.view(images.shape[0], -1))\n",
    "\n",
    "# Check predictions\n",
    "%matplotlib inline\n",
    "\n",
    "img = images[0].view(1, 784)\n",
    "\n",
    "probabilities = model(img)\n",
    "\n",
    "print(probabilities)\n",
    "\n",
    "view_classify(img.view(1,28,28), probabilities)"
   ]
  },
  {
   "cell_type": "markdown",
   "metadata": {
    "colab_type": "text",
    "id": "zrvqJtEsDiAq"
   },
   "source": [
    "#### Pytorch Sequential"
   ]
  },
  {
   "cell_type": "code",
   "execution_count": 73,
   "metadata": {
    "colab": {},
    "colab_type": "code",
    "id": "w8lVJ2pmDlMw"
   },
   "outputs": [],
   "source": [
    "# Hiper parameters\n",
    "input_s = 784\n",
    "\n",
    "hidden_s = [128, 64]\n",
    "\n",
    "output_s = 10\n",
    "\n",
    "epochs = 50"
   ]
  },
  {
   "cell_type": "code",
   "execution_count": 74,
   "metadata": {
    "colab": {},
    "colab_type": "code",
    "id": "AxyENwmaF3Wz"
   },
   "outputs": [
    {
     "data": {
      "text/plain": [
       "<bound method Module.parameters of Sequential(\n",
       "  (0): Linear(in_features=784, out_features=128, bias=True)\n",
       "  (1): ReLU()\n",
       "  (2): Linear(in_features=128, out_features=64, bias=True)\n",
       "  (3): ReLU()\n",
       "  (4): Linear(in_features=64, out_features=10, bias=True)\n",
       "  (5): LogSoftmax()\n",
       ")>"
      ]
     },
     "execution_count": 74,
     "metadata": {},
     "output_type": "execute_result"
    }
   ],
   "source": [
    "# Feed-forward network\n",
    "model = nn.Sequential(\n",
    "    nn.Linear(input_s, hidden_s[0]),\n",
    "    nn.ReLU(),\n",
    "    nn.Linear(hidden_s[0], hidden_s[1]),\n",
    "    nn.ReLU(),\n",
    "    nn.Linear(hidden_s[1], output_s),\n",
    "    nn.LogSoftmax(dim=1)\n",
    ")\n",
    "\n",
    "model.parameters"
   ]
  },
  {
   "cell_type": "code",
   "execution_count": 76,
   "metadata": {
    "colab": {},
    "colab_type": "code",
    "id": "Oy7NZtGEF5FU"
   },
   "outputs": [
    {
     "name": "stdout",
     "output_type": "stream",
     "text": [
      "Train loss (epoch 0): 1.3311638426361307\n",
      "Train loss (epoch 1): 0.623001863008369\n",
      "Train loss (epoch 2): 0.46077096424123115\n",
      "Train loss (epoch 3): 0.39763268934828894\n",
      "Train loss (epoch 4): 0.36362073855645366\n",
      "Train loss (epoch 5): 0.3413173997087646\n",
      "Train loss (epoch 6): 0.3248219078601296\n",
      "Train loss (epoch 7): 0.3116948308149126\n",
      "Train loss (epoch 8): 0.3007385249315167\n",
      "Train loss (epoch 9): 0.2911283086770887\n",
      "Train loss (epoch 10): 0.2824312318235572\n",
      "Train loss (epoch 11): 0.27442242279013335\n",
      "Train loss (epoch 12): 0.26711228702749523\n",
      "Train loss (epoch 13): 0.2602340826856048\n",
      "Train loss (epoch 14): 0.2536910924035857\n",
      "Train loss (epoch 15): 0.24743142693059278\n",
      "Train loss (epoch 16): 0.24140295261608513\n",
      "Train loss (epoch 17): 0.23559855504124277\n",
      "Train loss (epoch 18): 0.22999593246974417\n",
      "Train loss (epoch 19): 0.22455296323878932\n",
      "Train loss (epoch 20): 0.21929531889969606\n",
      "Train loss (epoch 21): 0.21418617728914915\n",
      "Train loss (epoch 22): 0.20921294541676033\n",
      "Train loss (epoch 23): 0.20435881246921858\n",
      "Train loss (epoch 24): 0.19965342759911311\n",
      "Train loss (epoch 25): 0.19509113454885446\n",
      "Train loss (epoch 26): 0.19067649440422876\n",
      "Train loss (epoch 27): 0.18640098859792326\n",
      "Train loss (epoch 28): 0.18226007437273892\n",
      "Train loss (epoch 29): 0.17825072308752074\n",
      "Train loss (epoch 30): 0.17435854397761796\n",
      "Train loss (epoch 31): 0.17060405311824034\n",
      "Train loss (epoch 32): 0.16698581792874886\n",
      "Train loss (epoch 33): 0.16348047505643196\n",
      "Train loss (epoch 34): 0.1600932865691528\n",
      "Train loss (epoch 35): 0.15681856117252982\n",
      "Train loss (epoch 36): 0.15365555896751407\n",
      "Train loss (epoch 37): 0.1505762248524407\n",
      "Train loss (epoch 38): 0.14760312844695314\n",
      "Train loss (epoch 39): 0.14471187126407745\n",
      "Train loss (epoch 40): 0.14192889504897188\n",
      "Train loss (epoch 41): 0.13922727339541607\n",
      "Train loss (epoch 42): 0.1366017584258051\n",
      "Train loss (epoch 43): 0.13405494526155723\n",
      "Train loss (epoch 44): 0.13159458829697643\n",
      "Train loss (epoch 45): 0.12921253476601674\n",
      "Train loss (epoch 46): 0.12690426519652928\n",
      "Train loss (epoch 47): 0.12465302350281525\n",
      "Train loss (epoch 48): 0.12246294807332919\n",
      "Train loss (epoch 49): 0.12034942316157478\n"
     ]
    }
   ],
   "source": [
    "# Train\n",
    "criterion = nn.NLLLoss()\n",
    "\n",
    "optimizer = optim.SGD(model.parameters(), lr=0.003)\n",
    "\n",
    "count = 0\n",
    "\n",
    "for epoch in range(epochs):\n",
    "    running_loss = 0\n",
    "    \n",
    "    for images, labels in train:\n",
    "        # Flatten\n",
    "        images = images.view(images.shape[0], -1)\n",
    "        \n",
    "        # Reset grandient\n",
    "        optimizer.zero_grad()\n",
    "        \n",
    "        # Output\n",
    "        output = model(images)\n",
    "        \n",
    "        loss = criterion(output, labels)\n",
    "        \n",
    "        loss.backward()\n",
    "        \n",
    "        optimizer.step()\n",
    "        \n",
    "        running_loss += loss.item()\n",
    "    else:\n",
    "        print(f'Train loss (epoch {count}): {running_loss / len(train)}')\n",
    "        \n",
    "        count += 1"
   ]
  },
  {
   "cell_type": "code",
   "execution_count": 77,
   "metadata": {
    "colab": {},
    "colab_type": "code",
    "id": "ycovVLWiI2oV"
   },
   "outputs": [
    {
     "name": "stdout",
     "output_type": "stream",
     "text": [
      "tensor([[8.9821e-04, 1.7698e-05, 1.3816e-04, 5.4353e-04, 2.2951e-03, 9.7885e-01,\n",
      "         1.6735e-02, 4.5665e-06, 4.7979e-04, 4.2009e-05]])\n"
     ]
    },
    {
     "data": {
      "image/png": "[encoded data removed]",
      "text/plain": [
       "<Figure size 432x648 with 2 Axes>"
      ]
     },
     "metadata": {
      "needs_background": "light"
     },
     "output_type": "display_data"
    }
   ],
   "source": [
    "# Check predictions\n",
    "%matplotlib inline\n",
    "\n",
    "img = images[0].view(1, 784)\n",
    "\n",
    "with torch.no_grad():\n",
    "    log_probability_softmax = model(img)\n",
    "\n",
    "log_probability_softmax = torch.exp(log_probability_softmax)\n",
    "\n",
    "view_classify(img.view(1,28,28), log_probability_softmax)\n",
    "\n",
    "print(log_probability_softmax)"
   ]
  }
 ],
 "metadata": {
  "accelerator": "GPU",
  "colab": {
   "collapsed_sections": [
    "UC2jWU6UJSeT",
    "zjBhDooy1zhh",
    "8tnhbtdi-dOb",
    "-SHxYtNf5Ixa",
    "toNypeCn5RTg",
    "upWZ8tuA7l6c",
    "zrvqJtEsDiAq"
   ],
   "name": "Mnist.ipynb",
   "provenance": [],
   "version": "0.3.2"
  },
  "kernelspec": {
   "display_name": "Python 3",
   "language": "python",
   "name": "python3"
  },
  "language_info": {
   "codemirror_mode": {
    "name": "ipython",
    "version": 3
   },
   "file_extension": ".py",
   "mimetype": "text/x-python",
   "name": "python",
   "nbconvert_exporter": "python",
   "pygments_lexer": "ipython3",
   "version": "3.6.8"
  }
 },
 "nbformat": 4,
 "nbformat_minor": 2
}
